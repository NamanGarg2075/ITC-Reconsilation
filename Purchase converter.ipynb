{
 "cells": [
  {
   "cell_type": "code",
   "execution_count": 2,
   "metadata": {},
   "outputs": [],
   "source": [
    "import pandas as pd"
   ]
  },
  {
   "cell_type": "code",
   "execution_count": 22,
   "metadata": {},
   "outputs": [],
   "source": [
    "old_purchase_path = './purchase.xlsx'\n",
    "\n",
    "# Loading old purchase file\n",
    "old_purchase = pd.read_excel(old_purchase_path)\n",
    "\n",
    "# Getting party name\n",
    "party_name = old_purchase.columns.tolist()[0]\n",
    "\n",
    "# dropping first row for column names\n",
    "old_purchase.columns =  old_purchase.iloc[0].values\n",
    "old_purchase = old_purchase[1:].reset_index(drop=True)"
   ]
  },
  {
   "cell_type": "code",
   "execution_count": 29,
   "metadata": {},
   "outputs": [],
   "source": [
    "# Renaming column names matching new purchase file\n",
    "old_purchase.rename(columns={\n",
    "    'Date':'Date',\n",
    "    'Party Name':'Particulars',\n",
    "    'VCode':'Voucher Type',\n",
    "    'Bill No.':'Supplier Invoice No.',\n",
    "    'Bill Date':'Supplier Invoice Date',\n",
    "    'Gst No.':'GSTIN/UIN',\n",
    "    'Bill Amt':'Gross Total',\n",
    "    'Basic':'BASIC',\n",
    "    'CGST Amt':'CGST',\n",
    "    'SGST Amt':'SGST',\n",
    "    'IGST Amt':'IGST'\n",
    "},inplace=True)"
   ]
  },
  {
   "cell_type": "code",
   "execution_count": 30,
   "metadata": {},
   "outputs": [],
   "source": [
    "# Exporting new purchase\n",
    "\n",
    "file_name = f'{party_name} New Purchase ITC Reco..xlsx'\n",
    "\n",
    "with pd.ExcelWriter(file_name,mode='w') as writer:\n",
    "    old_purchase.to_excel(writer,sheet_name='Purchase Register',index=False,startrow=3)"
   ]
  }
 ],
 "metadata": {
  "kernelspec": {
   "display_name": "Python 3",
   "language": "python",
   "name": "python3"
  },
  "language_info": {
   "codemirror_mode": {
    "name": "ipython",
    "version": 3
   },
   "file_extension": ".py",
   "mimetype": "text/x-python",
   "name": "python",
   "nbconvert_exporter": "python",
   "pygments_lexer": "ipython3",
   "version": "3.11.3"
  },
  "orig_nbformat": 4
 },
 "nbformat": 4,
 "nbformat_minor": 2
}
