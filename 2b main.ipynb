{
 "cells": [
  {
   "cell_type": "code",
   "execution_count": 1,
   "metadata": {},
   "outputs": [],
   "source": [
    "import pandas as pd"
   ]
  },
  {
   "cell_type": "code",
   "execution_count": 2,
   "metadata": {},
   "outputs": [],
   "source": [
    "pur_path = 'Data\\Purchase.XLSX'\n",
    "b2b_path = 'Data/2b.xlsx'\n",
    "\n",
    "last_month_input = input('Do you want to add *LAST MONTH* file (Y/N): ')\n",
    "\n",
    "if last_month_input.lower() == 'y':\n",
    "    last_month_path = input(\"Enter *LAST MONTH* File Name: \")\n",
    "\n",
    "# loading purchase books file\n",
    "purchase = pd.read_excel(pur_path,skiprows=3)\n",
    "\n",
    "# loading B2B file\n",
    "b2b = pd.read_excel(b2b_path, sheet_name='B2B', skiprows=4)\n",
    "b2b.drop(0,inplace=True)\n",
    "\n",
    "# Loading NOTE sheet\n",
    "b2b_cdnr = pd.read_excel(b2b_path, sheet_name='B2B-CDNR', skiprows=4)\n",
    "b2b_cdnr.drop(0,inplace=True)\n",
    "\n",
    "if last_month_input.lower() == 'y':\n",
    "    # Loading LAST MONTH PENDING and EXTRA sheet\n",
    "    pending_last_month = pd.read_excel(last_month_path, sheet_name='PENDING')\n",
    "    extra_last_month = pd.read_excel(last_month_path, sheet_name='EXTRA')\n",
    "\n",
    "# getting current month of file\n",
    "current_monn_file = pd.read_excel(b2b_path, sheet_name='Read me', skiprows=3).iloc[:,2][0]\n",
    "current_month_name = current_monn_file\n",
    "\n",
    "# getting file gst number\n",
    "file_gst_no = pd.read_excel(b2b_path, sheet_name='Read me', skiprows=3).iloc[:,2][1]"
   ]
  },
  {
   "cell_type": "code",
   "execution_count": 3,
   "metadata": {},
   "outputs": [],
   "source": [
    "# Adding Last Month 'DATA FROM' column\n",
    "if last_month_input.lower() == 'y':\n",
    "    pending_last_month['Data From'] = 'Last Month Pending Claim'\n",
    "    extra_last_month['Data From'] = 'Last Month Extra Claim'"
   ]
  },
  {
   "cell_type": "code",
   "execution_count": 4,
   "metadata": {},
   "outputs": [],
   "source": [
    "# Changing LAST MONTH RECO file Voucher Date to Date \n",
    "if last_month_input.lower() == 'y':\n",
    "    pending_last_month.rename(columns={'Voucher Date':'Date'},inplace=True)\n",
    "    extra_last_month.rename(columns={'Voucher Date':'Date'},inplace=True)"
   ]
  },
  {
   "cell_type": "code",
   "execution_count": 5,
   "metadata": {},
   "outputs": [],
   "source": [
    "# Renaming columns of B2B and B2B CDNR\n",
    "b2b.rename(columns={\n",
    "    'Invoice Details' : 'Invoice number',\n",
    "    'Unnamed: 3' : 'Invoice type',\n",
    "    'Unnamed: 4' : 'Invoice Date',\n",
    "    'Unnamed: 5' : 'Invoice Value(₹)',\n",
    "    'Tax Amount' : 'Integrated Tax(₹)',\n",
    "    'Unnamed: 11' : 'Central Tax(₹)',\n",
    "    'Unnamed: 12' : 'State/UT Tax(₹)',\n",
    "    'Unnamed: 13' : 'Cess(₹)'\n",
    "},inplace=True)\n",
    "b2b.reset_index(drop=True,inplace=True)\n",
    "\n",
    "b2b_cdnr.rename(columns={\n",
    "    'Credit note/Debit note details' : 'Invoice number',\n",
    "    'Unnamed: 3' : 'Invoice type',\n",
    "    'Unnamed: 4' : 'Note Supply type',\n",
    "    'Unnamed: 5' : 'Invoice Date',\n",
    "    'Unnamed: 6' : 'Invoice Value(₹)',\n",
    "    'Tax Amount' : 'Integrated Tax(₹)',\n",
    "    'Unnamed: 12' : 'Central Tax(₹)',\n",
    "    'Unnamed: 13' : 'State/UT Tax(₹)',\n",
    "    'Unnamed: 14' : 'Cess(₹)'\n",
    "},inplace=True)\n",
    "b2b_cdnr.reset_index(drop=True,inplace=True)\n",
    "\n",
    "if last_month_input.lower() == 'y':\n",
    "    # Renaming LAST MONTH DATA SUPPLIER NAME\n",
    "    pending_last_month.rename(columns={'SUPPLIER NAME':'Trade Name'},inplace=True)\n",
    "    extra_last_month.rename(columns={'SUPPLIER NAME':'Trade Name'},inplace=True)"
   ]
  },
  {
   "cell_type": "code",
   "execution_count": 6,
   "metadata": {},
   "outputs": [],
   "source": [
    "# Dropping 'Regular' column from b2b_cdnr\n",
    "b2b_cdnr.drop(columns={'Note Supply type'},inplace=True)"
   ]
  },
  {
   "cell_type": "code",
   "execution_count": 7,
   "metadata": {},
   "outputs": [],
   "source": [
    "# converting to negative values of 'Credit Note'\n",
    "for i in range(b2b_cdnr.shape[0]):\n",
    "    if b2b_cdnr.loc[i, 'Invoice type'].lower() == 'credit note':\n",
    "        b2b_cdnr.loc[i, 'Invoice Value(₹)'] = 0 - b2b_cdnr['Invoice Value(₹)'][i]\n",
    "        b2b_cdnr.loc[i, 'Taxable Value (₹)'] = 0 - b2b_cdnr['Taxable Value (₹)'][i]\n",
    "        b2b_cdnr.loc[i, 'Integrated Tax(₹)'] = 0 - b2b_cdnr['Integrated Tax(₹)'][i]\n",
    "        b2b_cdnr.loc[i, 'Central Tax(₹)'] = 0 - b2b_cdnr['Central Tax(₹)'][i]\n",
    "        b2b_cdnr.loc[i, 'State/UT Tax(₹)'] = 0 - b2b_cdnr['State/UT Tax(₹)'][i]"
   ]
  },
  {
   "cell_type": "code",
   "execution_count": 8,
   "metadata": {},
   "outputs": [],
   "source": [
    "# Concatinating b2b_cdnr data and B2B to B2B\n",
    "b2b = pd.concat([b2b,b2b_cdnr],ignore_index=True)\n",
    "\n",
    "# Taking only those rows with 'No' values\n",
    "b2b = b2b[b2b['Supply Attract Reverse Charge']=='No']"
   ]
  },
  {
   "cell_type": "code",
   "execution_count": 9,
   "metadata": {},
   "outputs": [],
   "source": [
    "# Getting Required Data\n",
    "purchase = purchase[['Date','Particulars','Voucher Type','Supplier Invoice No.','Supplier Invoice Date','GSTIN/UIN','Gross Total','BASIC','CGST','SGST','IGST']]\n",
    "b2b = b2b.iloc[:,:13]"
   ]
  },
  {
   "cell_type": "code",
   "execution_count": 10,
   "metadata": {},
   "outputs": [],
   "source": [
    "# Changing PURCHASE columns data type\n",
    "purchase[['Gross Total','BASIC','CGST','SGST','IGST']] = purchase[['Gross Total','BASIC','CGST','SGST','IGST']].astype('float64')\n",
    "purchase['Date'] = pd.to_datetime(purchase['Date'])\n",
    "purchase['Supplier Invoice Date'] = pd.to_datetime(purchase['Supplier Invoice Date'])\n",
    "\n",
    "# Changing B2B columns data type\n",
    "b2b[['Invoice Value(₹)','Taxable Value (₹)','Integrated Tax(₹)','Central Tax(₹)','State/UT Tax(₹)']] = b2b[['Invoice Value(₹)','Taxable Value (₹)','Integrated Tax(₹)','Central Tax(₹)','State/UT Tax(₹)']].astype('float64')\n",
    "b2b['Invoice Date'] = pd.to_datetime(b2b['Invoice Date'],dayfirst=True)"
   ]
  },
  {
   "cell_type": "code",
   "execution_count": 11,
   "metadata": {},
   "outputs": [],
   "source": [
    "# Renaming columns\n",
    "purchase.rename(columns={'Particulars':'Trade Name'},inplace=True)\n",
    "\n",
    "# Adding Columns\n",
    "REMARKS = \"\"\n",
    "STATUS = \"\"\n",
    "data_from = ''\n",
    "purchase.insert(2,'REMARKS',REMARKS)\n",
    "purchase.insert(12,'STATUS',STATUS)\n",
    "purchase.insert(13,'Data From',data_from)"
   ]
  },
  {
   "cell_type": "code",
   "execution_count": 12,
   "metadata": {},
   "outputs": [],
   "source": [
    "# Filling REMARKS column\n",
    "purchase['REMARKS'] = 'AS PER BOOKS'"
   ]
  },
  {
   "cell_type": "code",
   "execution_count": 13,
   "metadata": {},
   "outputs": [],
   "source": [
    "# Creating Dummy Dataframe for concatinating\n",
    "b2b_df = pd.DataFrame()\n",
    "\n",
    "b2b_df['Date'] = b2b['Invoice Date']\n",
    "b2b_df['Trade Name'] = b2b['Trade/Legal name']\n",
    "b2b_df['REMARKS'] = 'AS PER 2B'\n",
    "b2b_df['Voucher Type'] = b2b['Invoice type']\n",
    "b2b_df['Supplier Invoice No.'] = b2b['Invoice number']\n",
    "b2b_df['Supplier Invoice Date'] = b2b['Invoice Date']\n",
    "b2b_df['GSTIN/UIN'] = b2b['GSTIN of supplier']\n",
    "b2b_df['Gross Total'] = \"\"\n",
    "b2b_df['BASIC'] = b2b['Taxable Value (₹)']\n",
    "b2b_df['CGST'] = b2b['Central Tax(₹)']\n",
    "b2b_df['SGST'] = b2b['State/UT Tax(₹)']\n",
    "b2b_df['IGST'] = b2b['Integrated Tax(₹)']\n",
    "b2b_df['STATUS'] = ''"
   ]
  },
  {
   "cell_type": "code",
   "execution_count": 14,
   "metadata": {},
   "outputs": [],
   "source": [
    "if last_month_input.lower() == 'y':\n",
    "    # Adding B2B data below PURCHASE\n",
    "    main_data = pd.concat([purchase,b2b_df,pending_last_month,extra_last_month],ignore_index=True)\n",
    "else:\n",
    "    main_data = pd.concat([purchase,b2b_df],ignore_index=True)"
   ]
  },
  {
   "cell_type": "code",
   "execution_count": 15,
   "metadata": {},
   "outputs": [],
   "source": [
    "# Setting GST NO column\n",
    "main_data['GSTIN/UIN'] = main_data['GSTIN/UIN'].str.replace('_x000D_\\n','')\n",
    "main_data['GSTIN/UIN'] = main_data['GSTIN/UIN'].str.replace('\\n','')"
   ]
  },
  {
   "cell_type": "code",
   "execution_count": 16,
   "metadata": {},
   "outputs": [],
   "source": [
    "# Calculating GROSS column\n",
    "main_data['Gross Total'] = main_data['BASIC'] + main_data['CGST'] + main_data['SGST'] + main_data['IGST']"
   ]
  },
  {
   "cell_type": "code",
   "execution_count": 17,
   "metadata": {},
   "outputs": [],
   "source": [
    "# Creating SUPPLIER NAME column\n",
    "supplier_name = ''\n",
    "main_data.insert(2,'SUPPLIER NAME',supplier_name)"
   ]
  },
  {
   "cell_type": "code",
   "execution_count": 18,
   "metadata": {},
   "outputs": [],
   "source": [
    "# Separating 'AS PER BOOKS' and 'AS PER 2B' from main_data\n",
    "main_asp_books = main_data[main_data['REMARKS'] == 'AS PER BOOKS']\n",
    "main_asp_2b = main_data[main_data['REMARKS'] == 'AS PER 2B']"
   ]
  },
  {
   "cell_type": "code",
   "execution_count": 19,
   "metadata": {},
   "outputs": [],
   "source": [
    "# Grouping on the basis of GSTIN\n",
    "books_gstin_join = main_asp_books.groupby('GSTIN/UIN', dropna=False).agg({'Trade Name':'first'}).reset_index()\n",
    "\n",
    "# Performing join on both above data\n",
    "main_asp_2b = pd.merge(main_asp_2b,books_gstin_join,how='left',on='GSTIN/UIN')\n",
    "main_asp_2b['Trade Name_y'].fillna(main_asp_2b['Trade Name_x'],inplace=True)"
   ]
  },
  {
   "cell_type": "code",
   "execution_count": 20,
   "metadata": {},
   "outputs": [],
   "source": [
    "# Transfering column [Supplier Name]\n",
    "main_asp_2b.loc[:,'SUPPLIER NAME'] = main_asp_2b['Trade Name_y']\n",
    "main_asp_books.loc[:,'SUPPLIER NAME'] = main_asp_books['Trade Name']\n",
    "\n",
    "main_data = pd.concat([main_asp_books,main_asp_2b],ignore_index=True)\n",
    "main_data.drop(columns=['Trade Name','Trade Name_x','Trade Name_y'],inplace=True)"
   ]
  },
  {
   "cell_type": "code",
   "execution_count": null,
   "metadata": {},
   "outputs": [],
   "source": []
  },
  {
   "cell_type": "code",
   "execution_count": null,
   "metadata": {},
   "outputs": [],
   "source": []
  },
  {
   "cell_type": "code",
   "execution_count": 21,
   "metadata": {},
   "outputs": [],
   "source": [
    "# Filling NAN GSTIN\n",
    "\n",
    "gstin_join_2b = main_asp_2b.groupby(['SUPPLIER NAME','GSTIN/UIN'])['BASIC'].sum().reset_index()\n",
    "\n",
    "gstin_join_2b = gstin_join_2b.drop(columns=['BASIC'])\n",
    "\n",
    "gstin_join_books = main_asp_books.groupby(['SUPPLIER NAME','GSTIN/UIN'])['BASIC'].sum().reset_index()\n",
    "\n",
    "gstin_join_books = gstin_join_books.drop(columns=['BASIC'])\n",
    "\n",
    "main_data = pd.merge(main_data,gstin_join_2b,how='outer',on='SUPPLIER NAME')\n",
    "\n",
    "main_data['GSTIN/UIN_y'].fillna(main_data['GSTIN/UIN_x'],inplace=True)\n",
    "\n",
    "main_data['GSTIN/UIN_x'] = main_data['GSTIN/UIN_y']\n",
    "\n",
    "main_data.drop(columns=['GSTIN/UIN_y'],inplace=True)\n",
    "\n",
    "main_data.rename(columns={'GSTIN/UIN_x':'GSTIN/UIN'},inplace=True)"
   ]
  },
  {
   "cell_type": "code",
   "execution_count": 22,
   "metadata": {},
   "outputs": [],
   "source": [
    "# Extracting last 2 character of bill Number\n",
    "main_data['Bill No'] = main_data['Supplier Invoice No.'].apply(lambda x: str(x)[-3:])\n",
    "\n",
    "# Getting Month and Year of each row\n",
    "main_data['Month'] = main_data['Supplier Invoice Date'].dt.month\n",
    "main_data['Year'] = main_data['Supplier Invoice Date'].dt.year"
   ]
  },
  {
   "cell_type": "code",
   "execution_count": 23,
   "metadata": {},
   "outputs": [],
   "source": [
    "# Creating Pivot Table\n",
    "\n",
    "# Separating 'AS PER BOOKS' and 'AS PER 2B'\n",
    "aspbooks = main_data[main_data['REMARKS'] == 'AS PER BOOKS'].reset_index(drop=True)\n",
    "asp2b = main_data[main_data['REMARKS'] == 'AS PER 2B'].reset_index(drop=True)\n",
    "\n",
    "# Creating Pivot for both\n",
    "aspbooks_pivot = aspbooks.groupby(['SUPPLIER NAME','GSTIN/UIN','Bill No','Month','Year'],dropna=False).agg({'BASIC' :'sum', 'CGST' : 'sum', 'SGST' : 'sum' , 'IGST' :'sum'}).reset_index()\n",
    "asp2b_pivot = asp2b.groupby(['SUPPLIER NAME','GSTIN/UIN','Bill No','Month','Year'],dropna=False).agg({'BASIC' :'sum', 'CGST' : 'sum', 'SGST' : 'sum' , 'IGST' :'sum'}).reset_index()"
   ]
  },
  {
   "cell_type": "code",
   "execution_count": 24,
   "metadata": {},
   "outputs": [],
   "source": [
    "# Merging Both Pivot Table\n",
    "merged_df = pd.merge(asp2b_pivot,aspbooks_pivot,how='outer',on=['SUPPLIER NAME','GSTIN/UIN','Bill No','Month','Year'])\n",
    "\n",
    "# Renaming Columns Name\n",
    "merged_df.rename(columns={'Gross Total_x':'2B Gross Total', 'BASIC_x':'2B BASIC', 'CGST_x':'2B CGST','SGST_x':'2B SGST', 'IGST_x':'2B IGST', 'Gross Total_y':'BOOKS Gross Total', 'BASIC_y':'BOOKS BASIC', 'CGST_y':'BOOKS CGST', 'SGST_y':'BOOKS SGST','IGST_y':'BOOKS IGST'},inplace=True)"
   ]
  },
  {
   "cell_type": "code",
   "execution_count": 25,
   "metadata": {},
   "outputs": [],
   "source": [
    "# Filling 'NaN' values with '0'\n",
    "merged_df['2B BASIC'] = merged_df['2B BASIC'].fillna(0)\n",
    "merged_df['2B CGST'] = merged_df['2B CGST'].fillna(0)\n",
    "merged_df['2B SGST'] = merged_df['2B SGST'].fillna(0)\n",
    "merged_df['2B IGST'] = merged_df['2B IGST'].fillna(0)\n",
    "merged_df['BOOKS BASIC'] = merged_df['BOOKS BASIC'].fillna(0)\n",
    "merged_df['BOOKS CGST'] = merged_df['BOOKS CGST'].fillna(0)\n",
    "merged_df['BOOKS SGST'] = merged_df['BOOKS SGST'].fillna(0)\n",
    "merged_df['BOOKS IGST'] = merged_df['BOOKS IGST'].fillna(0)"
   ]
  },
  {
   "cell_type": "code",
   "execution_count": 26,
   "metadata": {},
   "outputs": [],
   "source": [
    "# Calculating Difference\n",
    "merged_df['BASIC_diff'] = merged_df['2B BASIC'] - merged_df['BOOKS BASIC']\n",
    "merged_df['CGST_diff'] = merged_df['2B CGST'] - merged_df['BOOKS CGST']\n",
    "merged_df['SGST_diff'] = merged_df['2B SGST'] - merged_df['BOOKS SGST']\n",
    "merged_df['IGST_diff'] = merged_df['2B IGST'] - merged_df['BOOKS IGST']\n",
    "\n",
    "# Addition of All GST's Diff\n",
    "merged_df['GST_diff_total'] = merged_df['CGST_diff'] + merged_df['SGST_diff'] + merged_df['IGST_diff']\n",
    "\n",
    "\n",
    "# Rearrancing Columns\n",
    "merged_df =  merged_df[['SUPPLIER NAME', 'GSTIN/UIN', 'Bill No', 'Month', 'Year', '2B BASIC','BOOKS BASIC', '2B CGST', 'BOOKS CGST','2B SGST','BOOKS SGST', '2B IGST', 'BOOKS IGST', 'BASIC_diff', 'CGST_diff', 'SGST_diff', 'IGST_diff','GST_diff_total']]"
   ]
  },
  {
   "cell_type": "code",
   "execution_count": 27,
   "metadata": {},
   "outputs": [],
   "source": [
    "# Creating STATUS column\n",
    "merged_df.loc[:, 'STATUS'] = ''\n",
    "\n",
    "# Filling STATUS column with 'OK', 'PENDING' and 'EXTRA'\n",
    "for i in range(merged_df.shape[0]):\n",
    "    if merged_df.loc[i, 'GST_diff_total'] > 9:\n",
    "        merged_df.loc[i,'STATUS'] = 'Extra Claimed'\n",
    "    elif merged_df.loc[i, 'GST_diff_total'] < -9:\n",
    "        merged_df.loc[i,'STATUS'] = 'Pending Claim'\n",
    "    else:\n",
    "        merged_df.loc[i,'STATUS'] = 'OK'"
   ]
  },
  {
   "cell_type": "code",
   "execution_count": 28,
   "metadata": {},
   "outputs": [],
   "source": [
    "# Joining Data for STATUS column\n",
    "main_data_df = pd.merge(main_data,merged_df[['SUPPLIER NAME','GSTIN/UIN','Bill No', 'Month', 'Year', 'STATUS']],how='outer',on=['SUPPLIER NAME','GSTIN/UIN','Bill No', 'Month', 'Year'])\n",
    "\n",
    "# Dropping STATUS_x column\n",
    "main_data_df.drop(columns={'STATUS_x'},inplace=True)\n",
    "\n",
    "# Renaming 'STATUS_y' column to 'STATUS'\n",
    "main_data_df.rename(columns={'STATUS_y':'STATUS'},inplace=True)"
   ]
  },
  {
   "cell_type": "code",
   "execution_count": 29,
   "metadata": {},
   "outputs": [],
   "source": [
    "# /******************************  LAST MONTH ********************************/\n",
    "current_month = pd.Timestamp.now().month\n",
    "current_yr = pd.Timestamp.now().year\n",
    "\n",
    "# creating LAST CLAIM MONTH column\n",
    "main_data_df['LAST CLAIM MONTH'] = ''\n",
    "\n",
    "month = pd.to_datetime(main_data_df['Supplier Invoice Date']).dt.month\n",
    "year = pd.to_datetime(main_data_df['Supplier Invoice Date']).dt.year\n",
    "\n",
    "data_month = pd.to_datetime(main_data_df['Supplier Invoice Date']).dt.month_name()\n",
    "data_year = pd.to_datetime(main_data_df['Supplier Invoice Date']).dt.year\n",
    "\n",
    "# converting current file month to number\n",
    "current_monn_file = pd.to_datetime(current_monn_file, format='%B').month\n",
    "\n",
    "for i in range(main_data_df.shape[0]):\n",
    "    if (month[i] < current_monn_file) or (year[i] < current_yr):\n",
    "        main_data_df.loc[i, 'LAST CLAIM MONTH'] = f\"{data_month[i]} {data_year[i]} CLAIM\""
   ]
  },
  {
   "cell_type": "code",
   "execution_count": 30,
   "metadata": {},
   "outputs": [],
   "source": [
    "# Conterting datetime to date only for export\n",
    "main_data_df['Date'] = pd.to_datetime(main_data_df['Date']).dt.date\n",
    "main_data_df['Supplier Invoice Date'] = pd.to_datetime(main_data_df['Supplier Invoice Date']).dt.date\n",
    "\n",
    "# Renaming Date Column\n",
    "main_data_df.rename(columns={'Date':'Voucher Date'},inplace=True)\n"
   ]
  },
  {
   "cell_type": "code",
   "execution_count": 31,
   "metadata": {},
   "outputs": [],
   "source": [
    "# Separating pending and extra rows\n",
    "pending_data = main_data_df[main_data_df['STATUS'] == 'Pending Claim'].reset_index(drop=True)\n",
    "extra_data = main_data_df[main_data_df['STATUS'] == 'Extra Claimed'].reset_index(drop=True)"
   ]
  },
  {
   "cell_type": "code",
   "execution_count": 32,
   "metadata": {},
   "outputs": [],
   "source": [
    "# Creating Separate Data for both 'Pending' and 'Extra' rows\n",
    "pending_asp_book = pending_data[pending_data['REMARKS'] == 'AS PER BOOKS']\n",
    "pending_asp_2b = pending_data[pending_data['REMARKS'] == 'AS PER 2B']\n",
    "\n",
    "extra_asp_book = extra_data[extra_data['REMARKS'] == 'AS PER BOOKS']\n",
    "extra_asp_2b = extra_data[extra_data['REMARKS'] == 'AS PER 2B']"
   ]
  },
  {
   "cell_type": "code",
   "execution_count": 33,
   "metadata": {},
   "outputs": [],
   "source": [
    "# Creating Pivot for pending both\n",
    "pending_asp_books_pivot = pending_asp_book.groupby(['SUPPLIER NAME','GSTIN/UIN','Bill No','Month','Year'],dropna=False).agg({'BASIC' :'sum', 'CGST' : 'sum', 'SGST' : 'sum' , 'IGST' :'sum'}).reset_index()\n",
    "pending_asp_2b_pivot = pending_asp_2b.groupby(['SUPPLIER NAME','GSTIN/UIN','Bill No','Month','Year'],dropna=False).agg({'BASIC' :'sum', 'CGST' : 'sum', 'SGST' : 'sum' , 'IGST' :'sum'}).reset_index()\n",
    "# Creating Pivot for pending both\n",
    "extra_asp_books_pivot = extra_asp_book.groupby(['SUPPLIER NAME','GSTIN/UIN','Bill No','Month','Year'],dropna=False).agg({'BASIC' :'sum', 'CGST' : 'sum', 'SGST' : 'sum' , 'IGST' :'sum'}).reset_index()\n",
    "extra_asp_2b_pivot = extra_asp_2b.groupby(['SUPPLIER NAME','GSTIN/UIN','Bill No','Month','Year'],dropna=False).agg({'BASIC' :'sum', 'CGST' : 'sum', 'SGST' : 'sum' , 'IGST' :'sum'}).reset_index()"
   ]
  },
  {
   "cell_type": "code",
   "execution_count": 34,
   "metadata": {},
   "outputs": [],
   "source": [
    "# Merging Both Pivot Table 'Pending'\n",
    "pending_df = pd.merge(pending_asp_2b_pivot,pending_asp_books_pivot,how='outer',on=['SUPPLIER NAME','GSTIN/UIN','Bill No','Month','Year'])\n",
    "\n",
    "# Renaming Columns Name of 'Pending_df'\n",
    "pending_df.rename(columns={'Gross Total_x':'2B Gross Total', 'BASIC_x':'2B BASIC', 'CGST_x':'2B CGST','SGST_x':'2B SGST', 'IGST_x':'2B IGST', 'Gross Total_y':'BOOKS Gross Total', 'BASIC_y':'BOOKS BASIC', 'CGST_y':'BOOKS CGST', 'SGST_y':'BOOKS SGST','IGST_y':'BOOKS IGST'},inplace=True)\n",
    "\n",
    "# Merging Both Pivot Table 'Extra'\n",
    "extra_df = pd.merge(extra_asp_2b_pivot,extra_asp_books_pivot,how='outer',on=['SUPPLIER NAME','GSTIN/UIN','Bill No','Month','Year'])\n",
    "\n",
    "# Renaming Columns Name of 'extra_df'\n",
    "extra_df.rename(columns={'Gross Total_x':'2B Gross Total', 'BASIC_x':'2B BASIC', 'CGST_x':'2B CGST','SGST_x':'2B SGST', 'IGST_x':'2B IGST', 'Gross Total_y':'BOOKS Gross Total', 'BASIC_y':'BOOKS BASIC', 'CGST_y':'BOOKS CGST', 'SGST_y':'BOOKS SGST','IGST_y':'BOOKS IGST'},inplace=True)"
   ]
  },
  {
   "cell_type": "code",
   "execution_count": 35,
   "metadata": {},
   "outputs": [],
   "source": [
    "# Calculating Difference\n",
    "pending_df['BASIC_diff'] = pending_df['2B BASIC'] - pending_df['BOOKS BASIC']\n",
    "pending_df['CGST_diff'] = pending_df['2B CGST'] - pending_df['BOOKS CGST']\n",
    "pending_df['SGST_diff'] = pending_df['2B SGST'] - pending_df['BOOKS SGST']\n",
    "pending_df['IGST_diff'] = pending_df['2B IGST'] - pending_df['BOOKS IGST']\n",
    "\n",
    "# Addition of All GST's Diff\n",
    "pending_df['GST_diff_total'] = pending_df['CGST_diff'] + pending_df['SGST_diff'] + pending_df['IGST_diff']\n",
    "\n",
    "\n",
    "# Rearrancing Columns\n",
    "pending_df =  pending_df[['SUPPLIER NAME', 'GSTIN/UIN', 'Bill No', 'Month', 'Year', '2B BASIC','BOOKS BASIC', '2B CGST', 'BOOKS CGST','2B SGST','BOOKS SGST', '2B IGST', 'BOOKS IGST', 'BASIC_diff', 'CGST_diff', 'SGST_diff', 'IGST_diff','GST_diff_total']]"
   ]
  },
  {
   "cell_type": "code",
   "execution_count": 36,
   "metadata": {},
   "outputs": [],
   "source": [
    "# Calculating Difference\n",
    "extra_df['BASIC_diff'] = extra_df['2B BASIC'] - extra_df['BOOKS BASIC']\n",
    "extra_df['CGST_diff'] = extra_df['2B CGST'] - extra_df['BOOKS CGST']\n",
    "extra_df['SGST_diff'] = extra_df['2B SGST'] - extra_df['BOOKS SGST']\n",
    "extra_df['IGST_diff'] = extra_df['2B IGST'] - extra_df['BOOKS IGST']\n",
    "\n",
    "# Addition of All GST's Diff\n",
    "extra_df['GST_diff_total'] = extra_df['CGST_diff'] + extra_df['SGST_diff'] + extra_df['IGST_diff']\n",
    "\n",
    "\n",
    "# Rearrancing Columns\n",
    "extra_df =  extra_df[['SUPPLIER NAME', 'GSTIN/UIN', 'Bill No', 'Month', 'Year', '2B BASIC','BOOKS BASIC', '2B CGST', 'BOOKS CGST','2B SGST','BOOKS SGST', '2B IGST', 'BOOKS IGST', 'BASIC_diff', 'CGST_diff', 'SGST_diff', 'IGST_diff','GST_diff_total']]"
   ]
  },
  {
   "cell_type": "code",
   "execution_count": 37,
   "metadata": {},
   "outputs": [],
   "source": [
    "# Pending\n",
    "pending_df['STATUS'] = ''\n",
    "\n",
    "for i in range(pending_df.shape[0]):\n",
    "    if (pending_df['GST_diff_total'][i] < 0) or (pending_df['GST_diff_total'][i] > 0):\n",
    "        pending_df.loc[i,'STATUS'] = 'Review Required'\n",
    "    else:\n",
    "        pending_df.loc[i,'STATUS'] = 'Pending Claim'"
   ]
  },
  {
   "cell_type": "code",
   "execution_count": 38,
   "metadata": {},
   "outputs": [],
   "source": [
    "# Extra\n",
    "extra_df['STATUS'] = ''\n",
    "\n",
    "for i in range(extra_df.shape[0]):\n",
    "    if (extra_df['GST_diff_total'][i] < 0) or (extra_df['GST_diff_total'][i] > 0):\n",
    "        extra_df.loc[i,'STATUS'] = 'Review Required'\n",
    "    else:\n",
    "        extra_df.loc[i,'STATUS'] = 'Extra Claimed'"
   ]
  },
  {
   "cell_type": "code",
   "execution_count": 39,
   "metadata": {},
   "outputs": [],
   "source": [
    "# Joining Data for STATUS column\n",
    "pending_data = pd.merge(pending_data,pending_df[['SUPPLIER NAME','GSTIN/UIN','Bill No', 'Month', 'Year', 'STATUS']],how='outer',on=['SUPPLIER NAME','GSTIN/UIN','Bill No', 'Month', 'Year'])\n",
    "\n",
    "# Dropping STATUS_x column\n",
    "pending_data.drop(columns={'STATUS_x'},inplace=True)\n",
    "\n",
    "# Renaming 'STATUS_y' column to 'STATUS'\n",
    "pending_data.rename(columns={'STATUS_y':'STATUS'},inplace=True)\n",
    "\n",
    "# Separating Review/Pending rows\n",
    "pending_review = pending_data[pending_data['STATUS'] == 'Review Required']\n",
    "pending_data = pending_data[pending_data['STATUS'] == 'Pending Claim']"
   ]
  },
  {
   "cell_type": "code",
   "execution_count": 40,
   "metadata": {},
   "outputs": [],
   "source": [
    "# Joining Data for STATUS column\n",
    "extra_data = pd.merge(extra_data,extra_df[['SUPPLIER NAME','GSTIN/UIN','Bill No', 'Month', 'Year', 'STATUS']],how='outer',on=['SUPPLIER NAME','GSTIN/UIN','Bill No', 'Month', 'Year'])\n",
    "\n",
    "# Dropping STATUS_x column\n",
    "extra_data.drop(columns={'STATUS_x'},inplace=True)\n",
    "\n",
    "# Renaming 'STATUS_y' column to 'STATUS'\n",
    "extra_data.rename(columns={'STATUS_y':'STATUS'},inplace=True)\n",
    "\n",
    "# Separating Review/Extra rows\n",
    "extra_review = extra_data[extra_data['STATUS'] == 'Review Required']\n",
    "extra_data = extra_data[extra_data['STATUS'] == 'Extra Claimed']"
   ]
  },
  {
   "cell_type": "code",
   "execution_count": 41,
   "metadata": {},
   "outputs": [],
   "source": [
    "# All Review rows\n",
    "review_data = pd.concat([pending_review,extra_review],ignore_index=True)\n",
    "\n",
    "# OK status rows\n",
    "ok_data = main_data_df[main_data_df['STATUS'] == 'OK']"
   ]
  },
  {
   "cell_type": "code",
   "execution_count": 42,
   "metadata": {},
   "outputs": [],
   "source": [
    "# Creating main_data_df\n",
    "main_data_df = pd.concat([pending_data,extra_data,ok_data,review_data],ignore_index=True)"
   ]
  },
  {
   "cell_type": "code",
   "execution_count": 43,
   "metadata": {},
   "outputs": [],
   "source": [
    "# Creating SUMMARY AGAIN on NAME and GSTN\n",
    "\n",
    "# Separating 'AS PER BOOKS' and 'AS PER 2B'\n",
    "aspbooks = main_data_df[main_data_df['REMARKS'] == 'AS PER BOOKS'].reset_index(drop=True)\n",
    "asp2b = main_data_df[main_data_df['REMARKS'] == 'AS PER 2B'].reset_index(drop=True)\n",
    "\n",
    "# Creating Pivot for both\n",
    "aspbooks_pivot = aspbooks.groupby(['SUPPLIER NAME','GSTIN/UIN','Month', 'Year'],dropna=False).agg({'BASIC' :'sum', 'CGST' : 'sum', 'SGST' : 'sum' , 'IGST' :'sum'}).reset_index()\n",
    "asp2b_pivot = asp2b.groupby(['SUPPLIER NAME','GSTIN/UIN','Month', 'Year'],dropna=False).agg({'BASIC' :'sum', 'CGST' : 'sum', 'SGST' : 'sum' , 'IGST' :'sum'}).reset_index()\n",
    "\n",
    "# Merging Both Pivot Table\n",
    "summary_df = pd.merge(asp2b_pivot,aspbooks_pivot,how='outer',on=['SUPPLIER NAME','GSTIN/UIN','Month', 'Year'])\n",
    "\n",
    "# Renaming Columns Name\n",
    "summary_df.rename(columns={'Gross Total_x':'2B Gross Total', 'BASIC_x':'2B BASIC', 'CGST_x':'2B CGST','SGST_x':'2B SGST', 'IGST_x':'2B IGST', 'Gross Total_y':'BOOKS Gross Total', 'BASIC_y':'BOOKS BASIC', 'CGST_y':'BOOKS CGST', 'SGST_y':'BOOKS SGST','IGST_y':'BOOKS IGST'},inplace=True)"
   ]
  },
  {
   "cell_type": "code",
   "execution_count": 44,
   "metadata": {},
   "outputs": [],
   "source": [
    "# Filling 'NaN' values with '0'\n",
    "summary_df['2B BASIC'] = summary_df['2B BASIC'].fillna(0)\n",
    "summary_df['2B CGST'] = summary_df['2B CGST'].fillna(0)\n",
    "summary_df['2B SGST'] = summary_df['2B SGST'].fillna(0)\n",
    "summary_df['2B IGST'] = summary_df['2B IGST'].fillna(0)\n",
    "summary_df['BOOKS BASIC'] = summary_df['BOOKS BASIC'].fillna(0)\n",
    "summary_df['BOOKS CGST'] = summary_df['BOOKS CGST'].fillna(0)\n",
    "summary_df['BOOKS SGST'] = summary_df['BOOKS SGST'].fillna(0)\n",
    "summary_df['BOOKS IGST'] = summary_df['BOOKS IGST'].fillna(0)\n",
    "\n",
    "# Calculating Difference\n",
    "summary_df['2B_VS_Books_BASIC_diff'] = summary_df['2B BASIC'] - summary_df['BOOKS BASIC']\n",
    "summary_df['2B_VS_Books_CGST_diff'] = summary_df['2B CGST'] - summary_df['BOOKS CGST']\n",
    "summary_df['2B_VS_Books_SGST_diff'] = summary_df['2B SGST'] - summary_df['BOOKS SGST']\n",
    "summary_df['2B_VS_Books_IGST_diff'] = summary_df['2B IGST'] - summary_df['BOOKS IGST']\n",
    "\n",
    "# Creating GST total for BOTH column\n",
    "summary_df['2B_total_GST'] = summary_df['2B CGST'] + summary_df['2B SGST'] + summary_df['2B IGST']\n",
    "summary_df['BOOKS_total_GST'] = summary_df['BOOKS CGST'] + summary_df['BOOKS SGST'] + summary_df['BOOKS IGST']\n",
    "\n",
    "# Addition of All GST's Diff\n",
    "summary_df['Total_GST_diff'] = summary_df['2B_VS_Books_CGST_diff'] + summary_df['2B_VS_Books_SGST_diff'] + summary_df['2B_VS_Books_IGST_diff']\n",
    "\n",
    "\n",
    "# Rearrancing Columns\n",
    "summary_df =  summary_df[['SUPPLIER NAME', 'GSTIN/UIN','Month','Year', '2B BASIC', '2B CGST', '2B SGST', '2B IGST','2B_total_GST', 'BOOKS BASIC', 'BOOKS CGST','BOOKS SGST', 'BOOKS IGST','BOOKS_total_GST', '2B_VS_Books_BASIC_diff', '2B_VS_Books_CGST_diff', '2B_VS_Books_SGST_diff', '2B_VS_Books_IGST_diff','Total_GST_diff']]"
   ]
  },
  {
   "cell_type": "code",
   "execution_count": 45,
   "metadata": {},
   "outputs": [],
   "source": [
    "# Creating STATUS column\n",
    "summary_df.loc[:, 'STATUS'] = ''\n",
    "\n",
    "# Filling STATUS column with 'OK', 'PENDING' and 'EXTRA'\n",
    "for i in range(summary_df.shape[0]):\n",
    "    if summary_df.loc[i, 'Total_GST_diff'] > 9:\n",
    "        summary_df.loc[i,'STATUS'] = 'Extra Claimed'\n",
    "    elif summary_df.loc[i, 'Total_GST_diff'] < -9:\n",
    "        summary_df.loc[i,'STATUS'] = 'Pending Claim'\n",
    "    else:\n",
    "        summary_df.loc[i,'STATUS'] = 'OK'"
   ]
  },
  {
   "cell_type": "code",
   "execution_count": 46,
   "metadata": {},
   "outputs": [],
   "source": [
    "# Adding total row in summary_df\n",
    "total_sum_summary = pd.DataFrame(summary_df.select_dtypes(include='number').sum()).T\n",
    "summary_df = pd.concat([summary_df,total_sum_summary])"
   ]
  },
  {
   "cell_type": "code",
   "execution_count": 47,
   "metadata": {},
   "outputs": [],
   "source": [
    "# Joining Data for STATUS column\n",
    "main_data_df = pd.merge(main_data_df,summary_df[['SUPPLIER NAME','GSTIN/UIN', 'Month', 'Year', 'STATUS']],how='outer',on=['SUPPLIER NAME','GSTIN/UIN', 'Month', 'Year'])\n",
    "\n",
    "# Dropping STATUS_x column\n",
    "main_data_df.drop(columns={'STATUS_x'},inplace=True)\n",
    "\n",
    "# Renaming 'STATUS_y' column to 'STATUS'\n",
    "main_data_df.rename(columns={'STATUS_y':'STATUS'},inplace=True)"
   ]
  },
  {
   "cell_type": "code",
   "execution_count": 48,
   "metadata": {},
   "outputs": [],
   "source": [
    "# /******************************  LAST MONTH ********************************/\n",
    "current_month = pd.Timestamp.now().month\n",
    "current_yr = pd.Timestamp.now().year\n",
    "\n",
    "# creating LAST CLAIM MONTH column\n",
    "main_data_df['LAST CLAIM MONTH'] = ''\n",
    "\n",
    "month = pd.to_datetime(main_data_df['Supplier Invoice Date']).dt.month\n",
    "year = pd.to_datetime(main_data_df['Supplier Invoice Date']).dt.year\n",
    "\n",
    "data_month = pd.to_datetime(main_data_df['Supplier Invoice Date']).dt.month_name()\n",
    "data_year = pd.to_datetime(main_data_df['Supplier Invoice Date']).dt.year\n",
    "\n",
    "# converting current file month to number\n",
    "current_monn_file = pd.to_datetime(current_month_name, format='%B').month\n",
    "\n",
    "for i in range(main_data_df.shape[0]):\n",
    "    if (month[i] < current_monn_file) or (year[i] < current_yr):\n",
    "        main_data_df.loc[i, 'LAST CLAIM MONTH'] = f\"{data_month[i]} {data_year[i]} CLAIM\""
   ]
  },
  {
   "cell_type": "code",
   "execution_count": 49,
   "metadata": {},
   "outputs": [],
   "source": [
    "pending_data = main_data_df[main_data_df['STATUS'] == 'Pending Claim']\n",
    "extra_data = main_data_df[main_data_df['STATUS'] == 'Extra Claimed']"
   ]
  },
  {
   "cell_type": "code",
   "execution_count": null,
   "metadata": {},
   "outputs": [],
   "source": []
  },
  {
   "cell_type": "code",
   "execution_count": null,
   "metadata": {},
   "outputs": [],
   "source": []
  },
  {
   "cell_type": "code",
   "execution_count": 50,
   "metadata": {},
   "outputs": [],
   "source": [
    "pending_asp_book = pending_data[pending_data['REMARKS'] == 'AS PER BOOKS']\n",
    "pending_asp_2b = pending_data[pending_data['REMARKS'] == 'AS PER 2B']\n",
    "\n",
    "extra_asp_book = extra_data[extra_data['REMARKS'] == 'AS PER BOOKS']\n",
    "extra_asp_2b = extra_data[extra_data['REMARKS'] == 'AS PER 2B']"
   ]
  },
  {
   "cell_type": "code",
   "execution_count": 51,
   "metadata": {},
   "outputs": [],
   "source": [
    "# Creating Pivot for pending both\n",
    "pending_asp_books_pivot = pending_asp_book.groupby(['SUPPLIER NAME','GSTIN/UIN','Bill No','Month','Year'],dropna=False).agg({'BASIC' :'sum', 'CGST' : 'sum', 'SGST' : 'sum' , 'IGST' :'sum'}).reset_index()\n",
    "pending_asp_2b_pivot = pending_asp_2b.groupby(['SUPPLIER NAME','GSTIN/UIN','Bill No','Month','Year'],dropna=False).agg({'BASIC' :'sum', 'CGST' : 'sum', 'SGST' : 'sum' , 'IGST' :'sum'}).reset_index()\n",
    "\n",
    "# Creating Pivot for extra both\n",
    "extra_asp_books_pivot = extra_asp_book.groupby(['SUPPLIER NAME','GSTIN/UIN','Bill No','Month','Year'],dropna=False).agg({'BASIC' :'sum', 'CGST' : 'sum', 'SGST' : 'sum' , 'IGST' :'sum'}).reset_index()\n",
    "extra_asp_2b_pivot = extra_asp_2b.groupby(['SUPPLIER NAME','GSTIN/UIN','Bill No','Month','Year'],dropna=False).agg({'BASIC' :'sum', 'CGST' : 'sum', 'SGST' : 'sum' , 'IGST' :'sum'}).reset_index()"
   ]
  },
  {
   "cell_type": "code",
   "execution_count": 52,
   "metadata": {},
   "outputs": [],
   "source": [
    "# Merging Both Pivot Table 'Pending'\n",
    "pending_df = pd.merge(pending_asp_2b_pivot,pending_asp_books_pivot,how='outer',on=['SUPPLIER NAME','GSTIN/UIN','Bill No','Month','Year'])\n",
    "\n",
    "# Renaming Columns Name of 'pending'\n",
    "pending_df.rename(columns={'Gross Total_x':'2B Gross Total', 'BASIC_x':'2B BASIC', 'CGST_x':'2B CGST','SGST_x':'2B SGST', 'IGST_x':'2B IGST', 'Gross Total_y':'BOOKS Gross Total', 'BASIC_y':'BOOKS BASIC', 'CGST_y':'BOOKS CGST', 'SGST_y':'BOOKS SGST','IGST_y':'BOOKS IGST'},inplace=True)\n",
    "\n",
    "# Merging Both Pivot Table 'Extra'\n",
    "extra_df = pd.merge(extra_asp_2b_pivot,extra_asp_books_pivot,how='outer',on=['SUPPLIER NAME','GSTIN/UIN','Bill No','Month','Year'])\n",
    "\n",
    "# Renaming Columns Name of 'extra_df'\n",
    "extra_df.rename(columns={'Gross Total_x':'2B Gross Total', 'BASIC_x':'2B BASIC', 'CGST_x':'2B CGST','SGST_x':'2B SGST', 'IGST_x':'2B IGST', 'Gross Total_y':'BOOKS Gross Total', 'BASIC_y':'BOOKS BASIC', 'CGST_y':'BOOKS CGST', 'SGST_y':'BOOKS SGST','IGST_y':'BOOKS IGST'},inplace=True)"
   ]
  },
  {
   "cell_type": "code",
   "execution_count": 53,
   "metadata": {},
   "outputs": [],
   "source": [
    "# Calculating Difference\n",
    "pending_df.loc[:,'BASIC_diff'] = pending_df.loc[:,'2B BASIC'] - pending_df.loc[:,'BOOKS BASIC']\n",
    "pending_df.loc[:,'CGST_diff'] = pending_df.loc[:,'2B CGST'] - pending_df.loc[:,'BOOKS CGST']\n",
    "pending_df.loc[:,'SGST_diff'] = pending_df.loc[:,'2B SGST'] - pending_df.loc[:,'BOOKS SGST']\n",
    "pending_df.loc[:,'IGST_diff'] = pending_df.loc[:,'2B IGST'] - pending_df.loc[:,'BOOKS IGST']\n",
    "\n",
    "# Addition of All GST's Diff\n",
    "pending_df.loc[:,'GST_diff_total'] = pending_df.loc[:,'CGST_diff'] + pending_df.loc[:,'SGST_diff'] + pending_df.loc[:,'IGST_diff']\n",
    "\n",
    "\n",
    "# Rearrancing Columns\n",
    "pending_df =  pending_df[['SUPPLIER NAME', 'GSTIN/UIN', 'Bill No', 'Month', 'Year', '2B BASIC','BOOKS BASIC', '2B CGST', 'BOOKS CGST','2B SGST','BOOKS SGST', '2B IGST', 'BOOKS IGST', 'BASIC_diff', 'CGST_diff', 'SGST_diff', 'IGST_diff','GST_diff_total']]"
   ]
  },
  {
   "cell_type": "code",
   "execution_count": 54,
   "metadata": {},
   "outputs": [],
   "source": [
    "# Calculating Difference\n",
    "extra_df.loc[:,'BASIC_diff'] = extra_df.loc[:,'2B BASIC'] - extra_df.loc[:,'BOOKS BASIC']\n",
    "extra_df.loc[:,'CGST_diff'] = extra_df.loc[:,'2B CGST'] - extra_df.loc[:,'BOOKS CGST']\n",
    "extra_df.loc[:,'SGST_diff'] = extra_df.loc[:,'2B SGST'] - extra_df.loc[:,'BOOKS SGST']\n",
    "extra_df.loc[:,'IGST_diff'] = extra_df.loc[:,'2B IGST'] - extra_df.loc[:,'BOOKS IGST']\n",
    "\n",
    "# Addition of All GST's Diff\n",
    "extra_df.loc[:,'GST_diff_total'] = extra_df.loc[:,'CGST_diff'] + extra_df.loc[:,'SGST_diff'] + extra_df.loc[:,'IGST_diff']\n",
    "\n",
    "\n",
    "# Rearrancing Columns\n",
    "extra_df =  extra_df[['SUPPLIER NAME', 'GSTIN/UIN', 'Bill No', 'Month', 'Year', '2B BASIC','BOOKS BASIC', '2B CGST', 'BOOKS CGST','2B SGST','BOOKS SGST', '2B IGST', 'BOOKS IGST', 'BASIC_diff', 'CGST_diff', 'SGST_diff', 'IGST_diff','GST_diff_total']]"
   ]
  },
  {
   "cell_type": "code",
   "execution_count": 55,
   "metadata": {},
   "outputs": [],
   "source": [
    "# Extra\n",
    "pending_df['STATUS'] = ''\n",
    "\n",
    "for i in range(pending_df.shape[0]):\n",
    "    if (pending_df['GST_diff_total'][i] < 0) or (pending_df['GST_diff_total'][i] > 0):\n",
    "        pending_df.loc[i,'STATUS'] = 'Review Required'\n",
    "    elif pending_df['GST_diff_total'][i] == 0:\n",
    "        pending_df.loc[i,'STATUS'] = 'OK'\n",
    "    else:\n",
    "        pending_df.loc[i,'STATUS'] = 'Pending Claim'"
   ]
  },
  {
   "cell_type": "code",
   "execution_count": 56,
   "metadata": {},
   "outputs": [],
   "source": [
    "# Extra\n",
    "extra_df['STATUS'] = ''\n",
    "\n",
    "for i in range(extra_df.shape[0]):\n",
    "    if (extra_df['GST_diff_total'][i] < 0) or (extra_df['GST_diff_total'][i] > 0):\n",
    "        extra_df.loc[i,'STATUS'] = 'Review Required'\n",
    "    elif extra_df['GST_diff_total'][i] == 0:\n",
    "        extra_df.loc[i,'STATUS'] = 'OK'\n",
    "    else:\n",
    "        extra_df.loc[i,'STATUS'] = 'Extra Claimed'"
   ]
  },
  {
   "cell_type": "code",
   "execution_count": null,
   "metadata": {},
   "outputs": [],
   "source": []
  },
  {
   "cell_type": "code",
   "execution_count": 57,
   "metadata": {},
   "outputs": [],
   "source": [
    "# Joining Data for STATUS column\n",
    "pending_data = pd.merge(pending_data,pending_df[['SUPPLIER NAME','GSTIN/UIN','Bill No', 'Month', 'Year', 'STATUS']],how='outer',on=['SUPPLIER NAME','GSTIN/UIN','Bill No', 'Month', 'Year'])\n",
    "\n",
    "# Dropping STATUS_x column\n",
    "pending_data.drop(columns={'STATUS_x'},inplace=True)\n",
    "\n",
    "# Renaming 'STATUS_y' column to 'STATUS'\n",
    "pending_data.rename(columns={'STATUS_y':'STATUS'},inplace=True)\n",
    "\n",
    "# Separating Review/Pending rows\n",
    "pending_review = pending_data[pending_data['STATUS'] == 'Review Required']\n",
    "pending_ok = pending_data[pending_data['STATUS'] == 'OK']\n",
    "pending_data = pending_data[pending_data['STATUS'] == 'Pending Claim']"
   ]
  },
  {
   "cell_type": "code",
   "execution_count": 58,
   "metadata": {},
   "outputs": [],
   "source": [
    "# Joining Data for STATUS column\n",
    "extra_data = pd.merge(extra_data,extra_df[['SUPPLIER NAME','GSTIN/UIN','Bill No', 'Month', 'Year', 'STATUS']],how='outer',on=['SUPPLIER NAME','GSTIN/UIN','Bill No', 'Month', 'Year'])\n",
    "\n",
    "# Dropping STATUS_x column\n",
    "extra_data.drop(columns={'STATUS_x'},inplace=True)\n",
    "\n",
    "# Renaming 'STATUS_y' column to 'STATUS'\n",
    "extra_data.rename(columns={'STATUS_y':'STATUS'},inplace=True)\n",
    "\n",
    "# Separating Review/Extra rows\n",
    "extra_review = extra_data[extra_data['STATUS'] == 'Review Required']\n",
    "extra_ok = extra_data[extra_data['STATUS'] == 'OK']\n",
    "extra_data = extra_data[extra_data['STATUS'] == 'Extra Claimed']"
   ]
  },
  {
   "cell_type": "code",
   "execution_count": 59,
   "metadata": {},
   "outputs": [],
   "source": [
    "# All Review rows\n",
    "review_data = pd.concat([pending_review,extra_review],ignore_index=True)\n",
    "\n",
    "# OK status rows\n",
    "ok_data = main_data_df[main_data_df['STATUS'] == 'OK']"
   ]
  },
  {
   "cell_type": "code",
   "execution_count": 60,
   "metadata": {},
   "outputs": [],
   "source": [
    "# Creating main_data_df\n",
    "main_data_df = pd.concat([pending_data,extra_data,ok_data,review_data,extra_ok,pending_ok],ignore_index=True)"
   ]
  },
  {
   "cell_type": "code",
   "execution_count": null,
   "metadata": {},
   "outputs": [],
   "source": []
  },
  {
   "cell_type": "code",
   "execution_count": null,
   "metadata": {},
   "outputs": [],
   "source": []
  },
  {
   "cell_type": "code",
   "execution_count": null,
   "metadata": {},
   "outputs": [],
   "source": []
  },
  {
   "cell_type": "code",
   "execution_count": null,
   "metadata": {},
   "outputs": [],
   "source": []
  },
  {
   "cell_type": "code",
   "execution_count": 61,
   "metadata": {},
   "outputs": [],
   "source": [
    "# Dropping useless columns for export\n",
    "# merged_df.drop(columns=['Bill No','Month','Year'],inplace=True)\n",
    "main_data_df.drop(columns=['Bill No','Month','Year'],inplace=True)\n",
    "\n",
    "pending_data.drop(columns=['Bill No','Month','Year'],inplace=True)\n",
    "extra_data.drop(columns=['Bill No','Month','Year'],inplace=True)\n",
    "# ok_data.drop(columns=['Bill No','Month','Year'],inplace=True)\n",
    "review_data.drop(columns=['Bill No','Month','Year'],inplace=True)"
   ]
  },
  {
   "cell_type": "code",
   "execution_count": 62,
   "metadata": {},
   "outputs": [],
   "source": [
    "# Empty GST Number\n",
    "empty_gdt_data = main_data_df[main_data_df['GSTIN/UIN'].isnull()].reset_index(drop=True)"
   ]
  },
  {
   "cell_type": "code",
   "execution_count": 63,
   "metadata": {},
   "outputs": [],
   "source": [
    "# Adding 'DATA FROM' column to main data\n",
    "main_data_df['DATA FROM'] = main_data_df['Data From']\n",
    "main_data_df.drop(columns=['Data From'],inplace=True)\n",
    "\n",
    "# Dropping 'DATA FROM' column to pending data\n",
    "pending_data['DATA FROM'] = pending_data['Data From']\n",
    "pending_data.drop(columns=['Data From'],inplace=True)\n",
    "\n",
    "# Dropping 'DATA FROM' column to extra data\n",
    "extra_data.drop(columns=['Data From'],inplace=True)\n",
    "\n",
    "# Dropping 'DATA FROM' column to review data\n",
    "review_data['DATA FROM'] = review_data['Data From']\n",
    "review_data.drop(columns=['Data From'],inplace=True)\n",
    "\n",
    "# Adding 'DATA FROM' column to empty_gdt_data data\n",
    "empty_gdt_data['DATA FROM'] = empty_gdt_data['Data From']\n",
    "empty_gdt_data.drop(columns=['Data From'],inplace=True)"
   ]
  },
  {
   "cell_type": "code",
   "execution_count": 64,
   "metadata": {},
   "outputs": [],
   "source": [
    "# Getting state name using GST number\n",
    "states = {'03':'Punjab',\n",
    "          '01':'Jammu',\n",
    "          '17':'Meghalaya',\n",
    "          '27':'Pune',\n",
    "          '04':'Chandigarh',\n",
    "          '02':'Himachal Pardesh',\n",
    "          '09':'Uttar Pardesh',\n",
    "          '23':'Madhya Pardesh',\n",
    "          '08':'Rajasthan',\n",
    "          '06':'Haryana',\n",
    "          '21':'Odisha'}\n",
    "\n",
    "state_name = states[file_gst_no[:2]]"
   ]
  },
  {
   "cell_type": "code",
   "execution_count": 65,
   "metadata": {},
   "outputs": [],
   "source": [
    "# Exporting Data To Another sheet\n",
    "\n",
    "file_name = f'ITC Reco. 2B VS {file_gst_no} {state_name} {current_month_name}.xlsx'\n",
    "\n",
    "with pd.ExcelWriter(file_name, mode='w',engine='xlsxwriter',datetime_format='dd-mm-yyyy') as writer:\n",
    "    summary_df.to_excel(writer,sheet_name='SUMMARY',index=False)\n",
    "    # merged_df.to_excel(writer, sheet_name='SUMMARY', index=False)\n",
    "    main_data_df.to_excel(writer,sheet_name='ITC 2B VS BOOKS',index=False)\n",
    "    pending_data.to_excel(writer,sheet_name='PENDING',index=False)\n",
    "    extra_data.to_excel(writer,sheet_name='EXTRA',index=False)\n",
    "    review_data.to_excel(writer,sheet_name='REVIEW',index=False)\n",
    "    empty_gdt_data.to_excel(writer,sheet_name='MISSING GSTIN',index=False)\n",
    "\n",
    "# with pd.ExcelWriter(file_name,mode='a',if_sheet_exists='replace') as writer:\n"
   ]
  }
 ],
 "metadata": {
  "kernelspec": {
   "display_name": "Python 3",
   "language": "python",
   "name": "python3"
  },
  "language_info": {
   "codemirror_mode": {
    "name": "ipython",
    "version": 3
   },
   "file_extension": ".py",
   "mimetype": "text/x-python",
   "name": "python",
   "nbconvert_exporter": "python",
   "pygments_lexer": "ipython3",
   "version": "3.11.3"
  },
  "orig_nbformat": 4
 },
 "nbformat": 4,
 "nbformat_minor": 2
}
